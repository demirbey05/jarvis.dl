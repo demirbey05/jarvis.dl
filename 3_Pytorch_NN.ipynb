{
 "cells": [
  {
   "cell_type": "markdown",
   "id": "974b61c9",
   "metadata": {},
   "source": [
    "# Char Level RNN Classification"
   ]
  },
  {
   "cell_type": "markdown",
   "id": "91aa5aac",
   "metadata": {},
   "source": [
    "In this notebook, we will use RNN to do classifications"
   ]
  },
  {
   "cell_type": "markdown",
   "id": "8cfe54f0",
   "metadata": {},
   "source": [
    "### Data Acquisition and Preprocessing"
   ]
  },
  {
   "cell_type": "code",
   "execution_count": 8,
   "id": "cbdecfa5",
   "metadata": {},
   "outputs": [
    {
     "name": "stderr",
     "output_type": "stream",
     "text": [
      "name-data.zip: 100%|██████████| 2.75M/2.75M [00:00<00:00, 4.62MB/s]\n",
      "Extracting name-data.zip: 100%|██████████| 21/21 [00:00<00:00, 982.31files/s]\n"
     ]
    },
    {
     "data": {
      "text/plain": [
       "'/Users/huseyin/Codes/jarvis.dl/data/name-data/data'"
      ]
     },
     "execution_count": 8,
     "metadata": {},
     "output_type": "execute_result"
    }
   ],
   "source": [
    "from utils import download_file_from_url,extract_zip\n",
    "\n",
    "download_file_from_url(\"https://download.pytorch.org/tutorial/data.zip\",\"./name-data.zip\")\n",
    "extract_zip(\"./name-data.zip\",\"./data/name-data\",remove_zip=True)\n",
    "# I also added Turkish.txt to data/name-data \n",
    "# from https://gist.github.com/yasinkuyu/c5d18a3c2221f6ac75dc0b8fd81317e9"
   ]
  },
  {
   "cell_type": "code",
   "execution_count": 72,
   "id": "6639cec8",
   "metadata": {},
   "outputs": [],
   "source": [
    "import os\n",
    "names_folder_path = './data/name-data/data/names'\n",
    "\n",
    "data = {}\n",
    "for filename in os.listdir(names_folder_path):\n",
    "    # Get the full path\n",
    "    full_path = os.path.join(names_folder_path, filename)\n",
    "    country = filename.split('.')[0]\n",
    "    with open(full_path, 'r') as f:\n",
    "        lines = f.readlines()\n",
    "    data[country] = [name.strip() for name in lines]        \n"
   ]
  },
  {
   "cell_type": "code",
   "execution_count": 73,
   "id": "e2b0a4b7",
   "metadata": {},
   "outputs": [],
   "source": [
    "# We need to convert dataset to torch dataset\n",
    "classes = list(data.keys())\n",
    "class_idx = {classes[i]:i for i in range(len(classes))}\n",
    "idx_class = {i:classes[i] for i in range(len(classes))}\n",
    "\n",
    "\n",
    "import string\n",
    "import unicodedata\n",
    "\n",
    "# Let's define vocabulary we will use char-rnn\n",
    "allowed_characters = string.ascii_letters + \" .,;'\" + \"_\"\n",
    "n_letters = len(allowed_characters)\n",
    "\n",
    "# Turn a Unicode string to plain ASCII, thanks to https://stackoverflow.com/a/518232/2809427\n",
    "def unicodeToAscii(s):\n",
    "    return ''.join(\n",
    "        c for c in unicodedata.normalize('NFD', s)\n",
    "        if unicodedata.category(c) != 'Mn'\n",
    "        and c in allowed_characters\n",
    "    )"
   ]
  },
  {
   "cell_type": "code",
   "execution_count": 74,
   "id": "16fc2a5c",
   "metadata": {},
   "outputs": [],
   "source": [
    "def letterToIndex(letter):\n",
    "    # return our out-of-vocabulary character if we encounter a letter unknown to our model\n",
    "    if letter not in allowed_characters:\n",
    "        return allowed_characters.find(\"_\")\n",
    "    else:\n",
    "        return allowed_characters.find(letter)\n",
    "\n",
    "# Turn a line into a <line_length x 1 x n_letters>,\n",
    "# or an array of one-hot letter vectors\n",
    "def lineToTensor(line):\n",
    "    tensor = torch.zeros(len(line), 1, n_letters)\n",
    "    for li, letter in enumerate(line):\n",
    "        tensor[li][0][letterToIndex(letter)] = 1\n",
    "    return tensor"
   ]
  },
  {
   "cell_type": "code",
   "execution_count": 75,
   "id": "8295751a",
   "metadata": {},
   "outputs": [],
   "source": [
    "# Dataset Implementation\n",
    "# Dataset must implement three functions: __init__, __len__, and __getitem__\n",
    "from torch.utils.data import Dataset\n",
    "import torch\n",
    "class NamesDataset(Dataset):\n",
    "    def __init__(self, data, label_to_idx):\n",
    "        # Data is a dictionary of country names and their corresponding names\n",
    "        self.data = []\n",
    "        self.data_tensors = []\n",
    "        self.labels = []\n",
    "        self.labels_tensors = []\n",
    "        \n",
    "        for country, names in data.items():\n",
    "            for name in names:\n",
    "                self.data.append(name)\n",
    "                self.labels.append(country)\n",
    "                self.data_tensors.append(lineToTensor(name))\n",
    "                self.labels_tensors.append(torch.tensor(label_to_idx[country]))\n",
    "    \n",
    "    def __len__(self):\n",
    "        return len(self.data)\n",
    "    \n",
    "    def __getitem__(self, idx):\n",
    "        return self.data_tensors[idx], self.labels_tensors[idx], self.data[idx], self.labels[idx]"
   ]
  },
  {
   "cell_type": "code",
   "execution_count": 76,
   "id": "0a46349a",
   "metadata": {},
   "outputs": [
    {
     "data": {
      "text/plain": [
       "(tensor([[[0., 0., 0., 0., 0., 0., 0., 0., 0., 0., 0., 0., 0., 0., 0., 0., 0.,\n",
       "           0., 0., 0., 0., 0., 0., 0., 0., 0., 1., 0., 0., 0., 0., 0., 0., 0.,\n",
       "           0., 0., 0., 0., 0., 0., 0., 0., 0., 0., 0., 0., 0., 0., 0., 0., 0.,\n",
       "           0., 0., 0., 0., 0., 0., 0.]],\n",
       " \n",
       "         [[0., 1., 0., 0., 0., 0., 0., 0., 0., 0., 0., 0., 0., 0., 0., 0., 0.,\n",
       "           0., 0., 0., 0., 0., 0., 0., 0., 0., 0., 0., 0., 0., 0., 0., 0., 0.,\n",
       "           0., 0., 0., 0., 0., 0., 0., 0., 0., 0., 0., 0., 0., 0., 0., 0., 0.,\n",
       "           0., 0., 0., 0., 0., 0., 0.]],\n",
       " \n",
       "         [[0., 0., 0., 0., 0., 0., 0., 0., 0., 0., 0., 1., 0., 0., 0., 0., 0.,\n",
       "           0., 0., 0., 0., 0., 0., 0., 0., 0., 0., 0., 0., 0., 0., 0., 0., 0.,\n",
       "           0., 0., 0., 0., 0., 0., 0., 0., 0., 0., 0., 0., 0., 0., 0., 0., 0.,\n",
       "           0., 0., 0., 0., 0., 0., 0.]]]),\n",
       " tensor(0),\n",
       " 'Abl',\n",
       " 'Czech')"
      ]
     },
     "execution_count": 76,
     "metadata": {},
     "output_type": "execute_result"
    }
   ],
   "source": [
    "alldata = NamesDataset(data, class_idx)\n",
    "alldata[0]"
   ]
  },
  {
   "cell_type": "code",
   "execution_count": 77,
   "id": "46e822ea",
   "metadata": {},
   "outputs": [
    {
     "data": {
      "text/plain": [
       "(17438, 3077)"
      ]
     },
     "execution_count": 77,
     "metadata": {},
     "output_type": "execute_result"
    }
   ],
   "source": [
    "train_set, test_set = torch.utils.data.random_split(alldata, [.85, .15], generator=torch.Generator().manual_seed(2024))\n",
    "len(train_set), len(test_set)"
   ]
  },
  {
   "cell_type": "code",
   "execution_count": 78,
   "id": "ec104705",
   "metadata": {},
   "outputs": [],
   "source": [
    "class CharRNN(torch.nn.Module):\n",
    "    def __init__(self,inp_size,hidden_size,out_size):\n",
    "        super().__init__()\n",
    "        self.hidden_size = hidden_size\n",
    "        self.rnn = torch.nn.RNN(inp_size,hidden_size)\n",
    "        self.linear = torch.nn.Linear(hidden_size,out_size)\n",
    "        self.softmax = torch.nn.LogSoftmax(dim=1)\n",
    "    \n",
    "    def forward(self, line_tensor):\n",
    "        output, hidden = self.rnn(line_tensor)\n",
    "        output = self.linear(hidden[0])\n",
    "        output = self.softmax(output)\n",
    "        return output, hidden"
   ]
  },
  {
   "cell_type": "code",
   "execution_count": 79,
   "id": "2dd0e380",
   "metadata": {},
   "outputs": [
    {
     "name": "stdout",
     "output_type": "stream",
     "text": [
      "CharRNN(\n",
      "  (rnn): RNN(58, 128)\n",
      "  (linear): Linear(in_features=128, out_features=19, bias=True)\n",
      "  (softmax): LogSoftmax(dim=1)\n",
      ")\n"
     ]
    }
   ],
   "source": [
    "n_hidden = 128\n",
    "rnn = CharRNN(n_letters, n_hidden, len(data.keys()))\n",
    "print(rnn)"
   ]
  },
  {
   "cell_type": "code",
   "execution_count": 80,
   "id": "752e727d",
   "metadata": {},
   "outputs": [
    {
     "name": "stdout",
     "output_type": "stream",
     "text": [
      "torch.Size([6, 1, 58])\n",
      "(tensor([[-2.9313, -2.9050, -3.0032, -2.7818, -2.9181, -2.9322, -3.1087, -2.9764,\n",
      "         -2.8857, -2.8481, -2.9870, -3.0464, -3.0157, -2.8794, -3.1065, -2.9592,\n",
      "         -2.9710, -2.9164, -2.8385]], grad_fn=<LogSoftmaxBackward0>), tensor([[[-0.0049,  0.0354,  0.0864, -0.0963,  0.0417,  0.0207,  0.0479,\n",
      "          -0.1172,  0.0228, -0.1967, -0.0769,  0.0298,  0.1916,  0.0879,\n",
      "          -0.0467, -0.0052,  0.1995,  0.0762, -0.0122,  0.0893, -0.0424,\n",
      "          -0.0636,  0.1014, -0.2039,  0.0206, -0.1846,  0.0446, -0.1265,\n",
      "          -0.1687, -0.2217, -0.0798, -0.1206,  0.1315,  0.0533, -0.1355,\n",
      "          -0.0836, -0.0971,  0.0991, -0.0415,  0.0306,  0.0632, -0.0645,\n",
      "          -0.0392, -0.0295,  0.1577, -0.0911,  0.1218,  0.0046, -0.0860,\n",
      "          -0.0955,  0.0411,  0.0951, -0.0277, -0.0422,  0.1887, -0.0137,\n",
      "           0.0690, -0.2074,  0.0610, -0.0022, -0.0654,  0.0979, -0.1816,\n",
      "           0.1408,  0.0958, -0.1714,  0.0281, -0.0323, -0.0069, -0.1634,\n",
      "          -0.1051, -0.0264,  0.0643,  0.1150, -0.0826,  0.0570, -0.0386,\n",
      "           0.1318,  0.1032, -0.0340, -0.0164,  0.0599, -0.0827,  0.0695,\n",
      "           0.1477,  0.1223, -0.1013, -0.0463,  0.0931,  0.0939, -0.0301,\n",
      "           0.0118, -0.0927,  0.0781, -0.0083,  0.0369, -0.1781, -0.0264,\n",
      "           0.1155,  0.0896, -0.0752,  0.0185,  0.0160,  0.0673,  0.0707,\n",
      "           0.0363, -0.0297,  0.2227, -0.0117,  0.0247,  0.0819,  0.0062,\n",
      "          -0.0868,  0.2777, -0.0510, -0.1626,  0.0547,  0.0819,  0.0338,\n",
      "          -0.0973,  0.1307, -0.1928, -0.2008, -0.0686,  0.0567,  0.2925,\n",
      "          -0.0840,  0.1888]]], grad_fn=<StackBackward0>))\n",
      "('Japanese', 3)\n"
     ]
    }
   ],
   "source": [
    "def label_from_output(output, output_labels):\n",
    "    top_n, top_i = output.topk(1)\n",
    "    label_i = top_i[0].item()\n",
    "    return output_labels[label_i], label_i\n",
    "\n",
    "def convert_label_to_tensor(label,category_length):\n",
    "    tensor = torch.zeros(category_length)\n",
    "    tensor[label] = 1\n",
    "    return tensor\n",
    "    \n",
    "\n",
    "\n",
    "input = lineToTensor('Albert')\n",
    "print(input.shape)\n",
    "output = rnn(input) #this is equivalent to ``output = rnn.forward(input)``\n",
    "print(output)\n",
    "print(label_from_output(output[0], list(data.keys())))"
   ]
  },
  {
   "cell_type": "code",
   "execution_count": 81,
   "id": "dc49e873",
   "metadata": {},
   "outputs": [],
   "source": [
    "import numpy as np\n",
    "from tqdm import tqdm\n",
    "def train(rnn,dataset,criterion = torch.nn.CrossEntropyLoss(),n_epoch = 10, lr = 0.01, batch_size = 64):\n",
    "    optimizer = torch.optim.SGD(rnn.parameters(),lr)\n",
    "\n",
    "    all_losses = []\n",
    "    indices = np.arange(len(dataset))\n",
    "    np.random.shuffle(indices)\n",
    "    batches = np.array_split(indices, 101//20)\n",
    "    \n",
    "    rnn.train()\n",
    "    for i in tqdm(range(1,n_epoch+1)):\n",
    "\n",
    "        current_loss = 0\n",
    "        rnn.zero_grad()\n",
    "        for batch in batches:\n",
    "            batch_loss = torch.tensor(0.0,requires_grad=True)\n",
    "            for i in batch:\n",
    "                (data_tensor,label_tensor,data_text,label_text) = dataset[i]\n",
    "                output = rnn(data_tensor)\n",
    "                loss = criterion(output[0],convert_label_to_tensor(label_tensor.item(),len(classes)).reshape(1,-1))\n",
    "                batch_loss = batch_loss + loss.item()\n",
    "            \n",
    "            batch_loss.backward()\n",
    "            torch.nn.utils.clip_grad_norm_(rnn.parameters(), 3)\n",
    "            optimizer.step()\n",
    "            optimizer.zero_grad()\n",
    "            current_loss += batch_loss\n",
    "        \n",
    "        all_losses.append(current_loss/(len(batches) * batch_size))\n",
    "        print(\"Epoch: \",i,\"Loss: \",current_loss/(len(batches) * batch_size))\n",
    "    \n",
    "    return all_losses\n",
    "        \n"
   ]
  },
  {
   "cell_type": "code",
   "execution_count": 82,
   "id": "ca02ee4b",
   "metadata": {},
   "outputs": [
    {
     "name": "stderr",
     "output_type": "stream",
     "text": [
      " 10%|█         | 1/10 [00:01<00:15,  1.70s/it]"
     ]
    },
    {
     "name": "stdout",
     "output_type": "stream",
     "text": [
      "Epoch:  7461 Loss:  tensor(160.8722, grad_fn=<DivBackward0>)\n"
     ]
    },
    {
     "name": "stderr",
     "output_type": "stream",
     "text": [
      " 20%|██        | 2/10 [00:03<00:13,  1.71s/it]"
     ]
    },
    {
     "name": "stdout",
     "output_type": "stream",
     "text": [
      "Epoch:  7461 Loss:  tensor(160.8722, grad_fn=<DivBackward0>)\n"
     ]
    },
    {
     "name": "stderr",
     "output_type": "stream",
     "text": [
      " 30%|███       | 3/10 [00:05<00:11,  1.70s/it]"
     ]
    },
    {
     "name": "stdout",
     "output_type": "stream",
     "text": [
      "Epoch:  7461 Loss:  tensor(160.8722, grad_fn=<DivBackward0>)\n"
     ]
    },
    {
     "name": "stderr",
     "output_type": "stream",
     "text": [
      " 40%|████      | 4/10 [00:06<00:10,  1.67s/it]"
     ]
    },
    {
     "name": "stdout",
     "output_type": "stream",
     "text": [
      "Epoch:  7461 Loss:  tensor(160.8722, grad_fn=<DivBackward0>)\n"
     ]
    },
    {
     "name": "stderr",
     "output_type": "stream",
     "text": [
      " 50%|█████     | 5/10 [00:08<00:08,  1.66s/it]"
     ]
    },
    {
     "name": "stdout",
     "output_type": "stream",
     "text": [
      "Epoch:  7461 Loss:  tensor(160.8722, grad_fn=<DivBackward0>)\n"
     ]
    },
    {
     "name": "stderr",
     "output_type": "stream",
     "text": [
      " 60%|██████    | 6/10 [00:09<00:06,  1.64s/it]"
     ]
    },
    {
     "name": "stdout",
     "output_type": "stream",
     "text": [
      "Epoch:  7461 Loss:  tensor(160.8722, grad_fn=<DivBackward0>)\n"
     ]
    },
    {
     "name": "stderr",
     "output_type": "stream",
     "text": [
      " 70%|███████   | 7/10 [00:11<00:04,  1.63s/it]"
     ]
    },
    {
     "name": "stdout",
     "output_type": "stream",
     "text": [
      "Epoch:  7461 Loss:  tensor(160.8722, grad_fn=<DivBackward0>)\n"
     ]
    },
    {
     "name": "stderr",
     "output_type": "stream",
     "text": [
      " 80%|████████  | 8/10 [00:13<00:03,  1.62s/it]"
     ]
    },
    {
     "name": "stdout",
     "output_type": "stream",
     "text": [
      "Epoch:  7461 Loss:  tensor(160.8722, grad_fn=<DivBackward0>)\n"
     ]
    },
    {
     "name": "stderr",
     "output_type": "stream",
     "text": [
      " 90%|█████████ | 9/10 [00:14<00:01,  1.62s/it]"
     ]
    },
    {
     "name": "stdout",
     "output_type": "stream",
     "text": [
      "Epoch:  7461 Loss:  tensor(160.8722, grad_fn=<DivBackward0>)\n"
     ]
    },
    {
     "name": "stderr",
     "output_type": "stream",
     "text": [
      "100%|██████████| 10/10 [00:16<00:00,  1.65s/it]"
     ]
    },
    {
     "name": "stdout",
     "output_type": "stream",
     "text": [
      "Epoch:  7461 Loss:  tensor(160.8722, grad_fn=<DivBackward0>)\n",
      "training took 16.477602005004883s\n"
     ]
    },
    {
     "name": "stderr",
     "output_type": "stream",
     "text": [
      "\n"
     ]
    }
   ],
   "source": [
    "import time\n",
    "start = time.time()\n",
    "all_losses = train(rnn, train_set)\n",
    "end = time.time()\n",
    "print(f\"training took {end-start}s\")"
   ]
  },
  {
   "cell_type": "code",
   "execution_count": null,
   "id": "a0587e48",
   "metadata": {},
   "outputs": [],
   "source": []
  },
  {
   "cell_type": "code",
   "execution_count": null,
   "id": "f03bd413",
   "metadata": {},
   "outputs": [],
   "source": []
  }
 ],
 "metadata": {
  "kernelspec": {
   "display_name": ".venv",
   "language": "python",
   "name": "python3"
  },
  "language_info": {
   "codemirror_mode": {
    "name": "ipython",
    "version": 3
   },
   "file_extension": ".py",
   "mimetype": "text/x-python",
   "name": "python",
   "nbconvert_exporter": "python",
   "pygments_lexer": "ipython3",
   "version": "3.11.12"
  }
 },
 "nbformat": 4,
 "nbformat_minor": 5
}
