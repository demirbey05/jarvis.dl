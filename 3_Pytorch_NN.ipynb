{
 "cells": [
  {
   "cell_type": "markdown",
   "id": "974b61c9",
   "metadata": {},
   "source": [
    "# Char Level RNN Classification"
   ]
  },
  {
   "cell_type": "markdown",
   "id": "91aa5aac",
   "metadata": {},
   "source": [
    "In this notebook, we will use RNN to do classifications"
   ]
  },
  {
   "cell_type": "markdown",
   "id": "8cfe54f0",
   "metadata": {},
   "source": [
    "### Data Acquisition and Preprocessing"
   ]
  },
  {
   "cell_type": "code",
   "execution_count": 8,
   "id": "cbdecfa5",
   "metadata": {},
   "outputs": [
    {
     "name": "stderr",
     "output_type": "stream",
     "text": [
      "name-data.zip: 100%|██████████| 2.75M/2.75M [00:00<00:00, 4.62MB/s]\n",
      "Extracting name-data.zip: 100%|██████████| 21/21 [00:00<00:00, 982.31files/s]\n"
     ]
    },
    {
     "data": {
      "text/plain": [
       "'/Users/huseyin/Codes/jarvis.dl/data/name-data/data'"
      ]
     },
     "execution_count": 8,
     "metadata": {},
     "output_type": "execute_result"
    }
   ],
   "source": [
    "from utils import download_file_from_url,extract_zip\n",
    "\n",
    "download_file_from_url(\"https://download.pytorch.org/tutorial/data.zip\",\"./name-data.zip\")\n",
    "extract_zip(\"./name-data.zip\",\"./data/name-data\",remove_zip=True)\n",
    "# I also added Turkish.txt to data/name-data \n",
    "# from https://gist.github.com/yasinkuyu/c5d18a3c2221f6ac75dc0b8fd81317e9"
   ]
  },
  {
   "cell_type": "code",
   "execution_count": 2,
   "id": "6639cec8",
   "metadata": {},
   "outputs": [],
   "source": [
    "import os\n",
    "names_folder_path = './data/name-data/data/names'\n",
    "\n",
    "data = {}\n",
    "for filename in os.listdir(names_folder_path):\n",
    "    # Get the full path\n",
    "    full_path = os.path.join(names_folder_path, filename)\n",
    "    country = filename.split('.')[0]\n",
    "    with open(full_path, 'r') as f:\n",
    "        lines = f.readlines()\n",
    "    data[country] = [name.strip() for name in lines]        \n"
   ]
  },
  {
   "cell_type": "code",
   "execution_count": 3,
   "id": "e2b0a4b7",
   "metadata": {},
   "outputs": [],
   "source": [
    "# We need to convert dataset to torch dataset\n",
    "classes = list(data.keys())\n",
    "class_idx = {classes[i]:i for i in range(len(classes))}\n",
    "idx_class = {i:classes[i] for i in range(len(classes))}\n",
    "\n",
    "\n",
    "import string\n",
    "import unicodedata\n",
    "\n",
    "# Let's define vocabulary we will use char-rnn\n",
    "allowed_characters = string.ascii_letters + \" .,;'\" + \"_\"\n",
    "n_letters = len(allowed_characters)\n",
    "\n",
    "# Turn a Unicode string to plain ASCII, thanks to https://stackoverflow.com/a/518232/2809427\n",
    "def unicodeToAscii(s):\n",
    "    return ''.join(\n",
    "        c for c in unicodedata.normalize('NFD', s)\n",
    "        if unicodedata.category(c) != 'Mn'\n",
    "        and c in allowed_characters\n",
    "    )"
   ]
  },
  {
   "cell_type": "code",
   "execution_count": 4,
   "id": "16fc2a5c",
   "metadata": {},
   "outputs": [],
   "source": [
    "def letterToIndex(letter):\n",
    "    # return our out-of-vocabulary character if we encounter a letter unknown to our model\n",
    "    if letter not in allowed_characters:\n",
    "        return allowed_characters.find(\"_\")\n",
    "    else:\n",
    "        return allowed_characters.find(letter)\n",
    "\n",
    "# Turn a line into a <line_length x 1 x n_letters>,\n",
    "# or an array of one-hot letter vectors\n",
    "def lineToTensor(line):\n",
    "    tensor = torch.zeros(len(line), 1, n_letters)\n",
    "    for li, letter in enumerate(line):\n",
    "        tensor[li][0][letterToIndex(letter)] = 1\n",
    "    return tensor"
   ]
  },
  {
   "cell_type": "code",
   "execution_count": 5,
   "id": "8295751a",
   "metadata": {},
   "outputs": [],
   "source": [
    "# Dataset Implementation\n",
    "# Dataset must implement three functions: __init__, __len__, and __getitem__\n",
    "from torch.utils.data import Dataset\n",
    "import torch\n",
    "class NamesDataset(Dataset):\n",
    "    def __init__(self, data, label_to_idx):\n",
    "        # Data is a dictionary of country names and their corresponding names\n",
    "        self.data = []\n",
    "        self.data_tensors = []\n",
    "        self.labels = []\n",
    "        self.labels_tensors = []\n",
    "        \n",
    "        for country, names in data.items():\n",
    "            for name in names:\n",
    "                self.data.append(name)\n",
    "                self.labels.append(country)\n",
    "                self.data_tensors.append(lineToTensor(name))\n",
    "                self.labels_tensors.append(torch.tensor(label_to_idx[country]))\n",
    "    \n",
    "    def __len__(self):\n",
    "        return len(self.data)\n",
    "    \n",
    "    def __getitem__(self, idx):\n",
    "        return self.data_tensors[idx], self.labels_tensors[idx], self.data[idx], self.labels[idx]"
   ]
  },
  {
   "cell_type": "code",
   "execution_count": 6,
   "id": "0a46349a",
   "metadata": {},
   "outputs": [
    {
     "data": {
      "text/plain": [
       "(tensor([[[0., 0., 0., 0., 0., 0., 0., 0., 0., 0., 0., 0., 0., 0., 0., 0., 0.,\n",
       "           0., 0., 0., 0., 0., 0., 0., 0., 0., 1., 0., 0., 0., 0., 0., 0., 0.,\n",
       "           0., 0., 0., 0., 0., 0., 0., 0., 0., 0., 0., 0., 0., 0., 0., 0., 0.,\n",
       "           0., 0., 0., 0., 0., 0., 0.]],\n",
       " \n",
       "         [[0., 1., 0., 0., 0., 0., 0., 0., 0., 0., 0., 0., 0., 0., 0., 0., 0.,\n",
       "           0., 0., 0., 0., 0., 0., 0., 0., 0., 0., 0., 0., 0., 0., 0., 0., 0.,\n",
       "           0., 0., 0., 0., 0., 0., 0., 0., 0., 0., 0., 0., 0., 0., 0., 0., 0.,\n",
       "           0., 0., 0., 0., 0., 0., 0.]],\n",
       " \n",
       "         [[0., 0., 0., 0., 0., 0., 0., 0., 0., 0., 0., 1., 0., 0., 0., 0., 0.,\n",
       "           0., 0., 0., 0., 0., 0., 0., 0., 0., 0., 0., 0., 0., 0., 0., 0., 0.,\n",
       "           0., 0., 0., 0., 0., 0., 0., 0., 0., 0., 0., 0., 0., 0., 0., 0., 0.,\n",
       "           0., 0., 0., 0., 0., 0., 0.]]]),\n",
       " tensor(0),\n",
       " 'Abl',\n",
       " 'Czech')"
      ]
     },
     "execution_count": 6,
     "metadata": {},
     "output_type": "execute_result"
    }
   ],
   "source": [
    "alldata = NamesDataset(data, class_idx)\n",
    "alldata[0]"
   ]
  },
  {
   "cell_type": "code",
   "execution_count": 7,
   "id": "46e822ea",
   "metadata": {},
   "outputs": [
    {
     "data": {
      "text/plain": [
       "(17438, 3077)"
      ]
     },
     "execution_count": 7,
     "metadata": {},
     "output_type": "execute_result"
    }
   ],
   "source": [
    "train_set, test_set = torch.utils.data.random_split(alldata, [.85, .15], generator=torch.Generator().manual_seed(2024))\n",
    "len(train_set), len(test_set)"
   ]
  },
  {
   "cell_type": "code",
   "execution_count": 8,
   "id": "ec104705",
   "metadata": {},
   "outputs": [],
   "source": [
    "class CharRNN(torch.nn.Module):\n",
    "    def __init__(self,inp_size,hidden_size,out_size):\n",
    "        super().__init__()\n",
    "        self.hidden_size = hidden_size\n",
    "        self.rnn = torch.nn.RNN(inp_size,hidden_size)\n",
    "        self.linear = torch.nn.Linear(hidden_size,out_size)\n",
    "        self.softmax = torch.nn.LogSoftmax(dim=1)\n",
    "    \n",
    "    def forward(self, line_tensor):\n",
    "        output, hidden = self.rnn(line_tensor)\n",
    "        output = self.linear(hidden[0])\n",
    "        output = self.softmax(output)\n",
    "        return output, hidden"
   ]
  },
  {
   "cell_type": "code",
   "execution_count": 46,
   "id": "2dd0e380",
   "metadata": {},
   "outputs": [
    {
     "name": "stdout",
     "output_type": "stream",
     "text": [
      "CharRNN(\n",
      "  (rnn): RNN(58, 128)\n",
      "  (linear): Linear(in_features=128, out_features=19, bias=True)\n",
      "  (softmax): LogSoftmax(dim=1)\n",
      ")\n"
     ]
    }
   ],
   "source": [
    "n_hidden = 128\n",
    "rnn = CharRNN(n_letters, n_hidden, len(data.keys()))\n",
    "print(rnn)"
   ]
  },
  {
   "cell_type": "code",
   "execution_count": 47,
   "id": "752e727d",
   "metadata": {},
   "outputs": [
    {
     "name": "stdout",
     "output_type": "stream",
     "text": [
      "torch.Size([6, 1, 58])\n",
      "(tensor([[-2.9137, -2.8409, -2.9808, -2.9367, -2.8428, -2.9651, -2.9290, -3.0016,\n",
      "         -2.9410, -3.0219, -3.0769, -2.8811, -3.0074, -2.9561, -2.8385, -2.9932,\n",
      "         -2.9992, -2.9468, -2.9100]], grad_fn=<LogSoftmaxBackward0>), tensor([[[ 0.1222,  0.1395,  0.1502, -0.0424,  0.1295, -0.0385, -0.1260,\n",
      "          -0.1026, -0.0220, -0.0009, -0.0985,  0.0207,  0.0450, -0.0528,\n",
      "           0.0259, -0.1708,  0.0507,  0.0206,  0.0291,  0.0108,  0.1357,\n",
      "           0.0140, -0.0432, -0.0916, -0.1802, -0.0988, -0.0541, -0.0517,\n",
      "           0.0737, -0.0044,  0.1028, -0.0668, -0.2407, -0.0168,  0.0756,\n",
      "           0.0648, -0.1782,  0.0578, -0.0288,  0.0089,  0.0276, -0.0617,\n",
      "          -0.0236,  0.1107,  0.0146, -0.0689,  0.0842, -0.0163,  0.0178,\n",
      "          -0.2560,  0.1151,  0.0160,  0.0430, -0.0773, -0.0107, -0.0627,\n",
      "          -0.2107, -0.0373,  0.1636, -0.0243,  0.0073, -0.0098,  0.0923,\n",
      "          -0.0138,  0.1100, -0.0994, -0.0450, -0.0623,  0.0298, -0.0561,\n",
      "          -0.0254, -0.0411,  0.0567,  0.0755, -0.0744,  0.0193, -0.2561,\n",
      "          -0.0119,  0.0123,  0.0506,  0.1852,  0.1043,  0.0622, -0.0538,\n",
      "           0.0127,  0.0961,  0.0642,  0.1990,  0.0729, -0.1588,  0.0999,\n",
      "           0.0548, -0.0058,  0.0207, -0.1975,  0.2445, -0.1180, -0.0247,\n",
      "          -0.1574,  0.1871,  0.0413,  0.1901,  0.0037,  0.0609, -0.0333,\n",
      "          -0.0011,  0.0895, -0.1303,  0.0916,  0.0496,  0.0083, -0.0585,\n",
      "           0.0522,  0.0034, -0.0994,  0.2254,  0.0720,  0.0298,  0.1193,\n",
      "          -0.0481,  0.2392,  0.2213, -0.0700,  0.0359,  0.2139,  0.1428,\n",
      "          -0.0101, -0.1648]]], grad_fn=<StackBackward0>))\n",
      "('Portuguese', 14)\n"
     ]
    }
   ],
   "source": [
    "def label_from_output(output, output_labels):\n",
    "    top_n, top_i = output.topk(1)\n",
    "    label_i = top_i[0].item()\n",
    "    return output_labels[label_i], label_i\n",
    "\n",
    "def convert_label_to_tensor(label,category_length):\n",
    "    tensor = torch.zeros(category_length)\n",
    "    tensor[label] = 1\n",
    "    return tensor\n",
    "    \n",
    "\n",
    "\n",
    "input = lineToTensor('Albert')\n",
    "print(input.shape)\n",
    "output = rnn(input) #this is equivalent to ``output = rnn.forward(input)``\n",
    "print(output)\n",
    "print(label_from_output(output[0], list(data.keys())))"
   ]
  },
  {
   "cell_type": "code",
   "execution_count": 48,
   "id": "dc49e873",
   "metadata": {},
   "outputs": [],
   "source": [
    "import numpy as np\n",
    "from tqdm import tqdm\n",
    "\n",
    "def train(rnn,\n",
    "          dataset,\n",
    "          criterion=torch.nn.NLLLoss(),   # 1. NLLLoss matches LogSoftmax\n",
    "          n_epoch=10,\n",
    "          lr=0.01,\n",
    "          batch_size=64):\n",
    "\n",
    "    optimizer = torch.optim.SGD(rnn.parameters(), lr)\n",
    "    all_losses = []\n",
    "\n",
    "    rnn.train()\n",
    "    for epoch in tqdm(range(1, n_epoch + 1)):\n",
    "        # shuffle indices each epoch\n",
    "        indices = torch.randperm(len(dataset))\n",
    "        batches = indices.split(batch_size)\n",
    "\n",
    "        epoch_loss = 0.0\n",
    "        for batch in batches:\n",
    "            optimizer.zero_grad()\n",
    "\n",
    "            batch_loss = 0.0          # numeric, for logging\n",
    "            accum_loss = 0.0          # tensor, keeps graph\n",
    "\n",
    "            for idx in batch:\n",
    "                data_tensor, label_tensor, *_ = dataset[idx]\n",
    "                output, _ = rnn(data_tensor)\n",
    "                loss = criterion(output, label_tensor.view(1))   # 5.\n",
    "                accum_loss += loss           # tensor\n",
    "                batch_loss += loss.item()    # number\n",
    "\n",
    "            accum_loss.backward()            # 2.\n",
    "            torch.nn.utils.clip_grad_norm_(rnn.parameters(), 3)\n",
    "            optimizer.step()\n",
    "\n",
    "            epoch_loss += batch_loss\n",
    "\n",
    "        avg_loss = epoch_loss / len(dataset)\n",
    "        all_losses.append(avg_loss)\n",
    "        print(f\"Epoch {epoch} – avg loss: {avg_loss:.4f}\")\n",
    "\n",
    "    return all_losses\n",
    "        \n"
   ]
  },
  {
   "cell_type": "code",
   "execution_count": 49,
   "id": "ca02ee4b",
   "metadata": {},
   "outputs": [
    {
     "name": "stderr",
     "output_type": "stream",
     "text": [
      "  4%|▎         | 1/27 [00:04<01:52,  4.31s/it]"
     ]
    },
    {
     "name": "stdout",
     "output_type": "stream",
     "text": [
      "Epoch 1 – avg loss: 1.4647\n"
     ]
    },
    {
     "name": "stderr",
     "output_type": "stream",
     "text": [
      "  7%|▋         | 2/27 [00:08<01:42,  4.12s/it]"
     ]
    },
    {
     "name": "stdout",
     "output_type": "stream",
     "text": [
      "Epoch 2 – avg loss: 1.1601\n"
     ]
    },
    {
     "name": "stderr",
     "output_type": "stream",
     "text": [
      " 11%|█         | 3/27 [00:12<01:37,  4.05s/it]"
     ]
    },
    {
     "name": "stdout",
     "output_type": "stream",
     "text": [
      "Epoch 3 – avg loss: 1.0629\n"
     ]
    },
    {
     "name": "stderr",
     "output_type": "stream",
     "text": [
      " 15%|█▍        | 4/27 [00:16<01:32,  4.02s/it]"
     ]
    },
    {
     "name": "stdout",
     "output_type": "stream",
     "text": [
      "Epoch 4 – avg loss: 0.9965\n"
     ]
    },
    {
     "name": "stderr",
     "output_type": "stream",
     "text": [
      " 19%|█▊        | 5/27 [00:20<01:27,  3.98s/it]"
     ]
    },
    {
     "name": "stdout",
     "output_type": "stream",
     "text": [
      "Epoch 5 – avg loss: 0.9333\n"
     ]
    },
    {
     "name": "stderr",
     "output_type": "stream",
     "text": [
      " 22%|██▏       | 6/27 [00:24<01:23,  3.96s/it]"
     ]
    },
    {
     "name": "stdout",
     "output_type": "stream",
     "text": [
      "Epoch 6 – avg loss: 0.8858\n"
     ]
    },
    {
     "name": "stderr",
     "output_type": "stream",
     "text": [
      " 26%|██▌       | 7/27 [00:28<01:19,  3.95s/it]"
     ]
    },
    {
     "name": "stdout",
     "output_type": "stream",
     "text": [
      "Epoch 7 – avg loss: 0.8423\n"
     ]
    },
    {
     "name": "stderr",
     "output_type": "stream",
     "text": [
      " 30%|██▉       | 8/27 [00:31<01:15,  3.95s/it]"
     ]
    },
    {
     "name": "stdout",
     "output_type": "stream",
     "text": [
      "Epoch 8 – avg loss: 0.8026\n"
     ]
    },
    {
     "name": "stderr",
     "output_type": "stream",
     "text": [
      " 33%|███▎      | 9/27 [00:35<01:11,  3.97s/it]"
     ]
    },
    {
     "name": "stdout",
     "output_type": "stream",
     "text": [
      "Epoch 9 – avg loss: 0.7672\n"
     ]
    },
    {
     "name": "stderr",
     "output_type": "stream",
     "text": [
      " 37%|███▋      | 10/27 [00:39<01:07,  3.98s/it]"
     ]
    },
    {
     "name": "stdout",
     "output_type": "stream",
     "text": [
      "Epoch 10 – avg loss: 0.7370\n"
     ]
    },
    {
     "name": "stderr",
     "output_type": "stream",
     "text": [
      " 41%|████      | 11/27 [00:43<01:03,  3.97s/it]"
     ]
    },
    {
     "name": "stdout",
     "output_type": "stream",
     "text": [
      "Epoch 11 – avg loss: 0.7091\n"
     ]
    },
    {
     "name": "stderr",
     "output_type": "stream",
     "text": [
      " 44%|████▍     | 12/27 [00:47<00:59,  3.97s/it]"
     ]
    },
    {
     "name": "stdout",
     "output_type": "stream",
     "text": [
      "Epoch 12 – avg loss: 0.6854\n"
     ]
    },
    {
     "name": "stderr",
     "output_type": "stream",
     "text": [
      " 48%|████▊     | 13/27 [00:51<00:55,  3.96s/it]"
     ]
    },
    {
     "name": "stdout",
     "output_type": "stream",
     "text": [
      "Epoch 13 – avg loss: 0.6602\n"
     ]
    },
    {
     "name": "stderr",
     "output_type": "stream",
     "text": [
      " 52%|█████▏    | 14/27 [00:55<00:51,  3.98s/it]"
     ]
    },
    {
     "name": "stdout",
     "output_type": "stream",
     "text": [
      "Epoch 14 – avg loss: 0.6318\n"
     ]
    },
    {
     "name": "stderr",
     "output_type": "stream",
     "text": [
      " 56%|█████▌    | 15/27 [00:59<00:47,  3.98s/it]"
     ]
    },
    {
     "name": "stdout",
     "output_type": "stream",
     "text": [
      "Epoch 15 – avg loss: 0.6128\n"
     ]
    },
    {
     "name": "stderr",
     "output_type": "stream",
     "text": [
      " 59%|█████▉    | 16/27 [01:03<00:44,  4.00s/it]"
     ]
    },
    {
     "name": "stdout",
     "output_type": "stream",
     "text": [
      "Epoch 16 – avg loss: 0.5947\n"
     ]
    },
    {
     "name": "stderr",
     "output_type": "stream",
     "text": [
      " 63%|██████▎   | 17/27 [01:07<00:39,  4.00s/it]"
     ]
    },
    {
     "name": "stdout",
     "output_type": "stream",
     "text": [
      "Epoch 17 – avg loss: 0.5735\n"
     ]
    },
    {
     "name": "stderr",
     "output_type": "stream",
     "text": [
      " 67%|██████▋   | 18/27 [01:11<00:35,  3.99s/it]"
     ]
    },
    {
     "name": "stdout",
     "output_type": "stream",
     "text": [
      "Epoch 18 – avg loss: 0.5558\n"
     ]
    },
    {
     "name": "stderr",
     "output_type": "stream",
     "text": [
      " 70%|███████   | 19/27 [01:16<00:32,  4.04s/it]"
     ]
    },
    {
     "name": "stdout",
     "output_type": "stream",
     "text": [
      "Epoch 19 – avg loss: 0.5396\n"
     ]
    },
    {
     "name": "stderr",
     "output_type": "stream",
     "text": [
      " 74%|███████▍  | 20/27 [01:20<00:28,  4.06s/it]"
     ]
    },
    {
     "name": "stdout",
     "output_type": "stream",
     "text": [
      "Epoch 20 – avg loss: 0.5282\n"
     ]
    },
    {
     "name": "stderr",
     "output_type": "stream",
     "text": [
      " 78%|███████▊  | 21/27 [01:24<00:24,  4.03s/it]"
     ]
    },
    {
     "name": "stdout",
     "output_type": "stream",
     "text": [
      "Epoch 21 – avg loss: 0.5131\n"
     ]
    },
    {
     "name": "stderr",
     "output_type": "stream",
     "text": [
      " 81%|████████▏ | 22/27 [01:28<00:20,  4.00s/it]"
     ]
    },
    {
     "name": "stdout",
     "output_type": "stream",
     "text": [
      "Epoch 22 – avg loss: 0.4968\n"
     ]
    },
    {
     "name": "stderr",
     "output_type": "stream",
     "text": [
      " 85%|████████▌ | 23/27 [01:31<00:15,  3.98s/it]"
     ]
    },
    {
     "name": "stdout",
     "output_type": "stream",
     "text": [
      "Epoch 23 – avg loss: 0.4858\n"
     ]
    },
    {
     "name": "stderr",
     "output_type": "stream",
     "text": [
      " 89%|████████▉ | 24/27 [01:35<00:11,  3.96s/it]"
     ]
    },
    {
     "name": "stdout",
     "output_type": "stream",
     "text": [
      "Epoch 24 – avg loss: 0.4762\n"
     ]
    },
    {
     "name": "stderr",
     "output_type": "stream",
     "text": [
      " 93%|█████████▎| 25/27 [01:39<00:07,  3.94s/it]"
     ]
    },
    {
     "name": "stdout",
     "output_type": "stream",
     "text": [
      "Epoch 25 – avg loss: 0.4655\n"
     ]
    },
    {
     "name": "stderr",
     "output_type": "stream",
     "text": [
      " 96%|█████████▋| 26/27 [01:43<00:03,  3.94s/it]"
     ]
    },
    {
     "name": "stdout",
     "output_type": "stream",
     "text": [
      "Epoch 26 – avg loss: 0.4600\n"
     ]
    },
    {
     "name": "stderr",
     "output_type": "stream",
     "text": [
      "100%|██████████| 27/27 [01:47<00:00,  3.99s/it]"
     ]
    },
    {
     "name": "stdout",
     "output_type": "stream",
     "text": [
      "Epoch 27 – avg loss: 0.4527\n",
      "training took 107.64321517944336s\n"
     ]
    },
    {
     "name": "stderr",
     "output_type": "stream",
     "text": [
      "\n"
     ]
    }
   ],
   "source": [
    "import time\n",
    "start = time.time()\n",
    "all_losses = train(rnn, train_set,n_epoch=27,lr=0.15)\n",
    "end = time.time()\n",
    "print(f\"training took {end-start}s\")"
   ]
  },
  {
   "cell_type": "code",
   "execution_count": 50,
   "id": "95fceeab",
   "metadata": {},
   "outputs": [
    {
     "data": {
      "image/png": "[encoded data removed]",
      "text/plain": [
       "<Figure size 640x480 with 1 Axes>"
      ]
     },
     "metadata": {},
     "output_type": "display_data"
    }
   ],
   "source": [
    "import matplotlib.pyplot as plt\n",
    "\n",
    "plt.figure()\n",
    "plt.plot(all_losses)\n",
    "plt.show()"
   ]
  },
  {
   "cell_type": "code",
   "execution_count": null,
   "id": "10a94362",
   "metadata": {},
   "outputs": [],
   "source": [
    "def evaluate(rnn, test_set):\n",
    "\n",
    "    confusion = torch.zeros(len(classes), len(classes))\n",
    "    rnn.eval()\n",
    "    with torch.no_grad():\n",
    "\n",
    "        for i in range(len(test_set)):\n",
    "            data_tensor, label_tensor, _ = test_set[i]\n",
    "            output, _ = rnn(data_tensor)\n",
    "            _,guess_i = label_from_output(output[0], list(data.keys()))\n",
    "            label_i = label_tensor.item()\n",
    "            confusion[guess_i][label_i] += 1\n",
    "    \n",
    "    for i in range(len(classes)):\n",
    "        denom = confusion[i].sum()\n",
    "        if denom > 0:\n",
    "            confusion[i] = confusion[i] / denom\n",
    "\n",
    "    # Set up plot\n",
    "    fig = plt.figure()\n",
    "    ax = fig.add_subplot(111)\n",
    "    cax = ax.matshow(confusion.cpu().numpy()) #numpy uses cpu here so we need to use a cpu version\n",
    "    fig.colorbar(cax)\n",
    "\n",
    "    # Set up axes\n",
    "    ax.set_xticks(np.arange(len(classes)), labels=classes, rotation=90)\n",
    "    ax.set_yticks(np.arange(len(classes)), labels=classes)\n",
    "\n",
    "    # Force label at every tick\n",
    "    ax.xaxis.set_major_locator(ticker.MultipleLocator(1))\n",
    "    ax.yaxis.set_major_locator(ticker.MultipleLocator(1))\n",
    "\n",
    "    # sphinx_gallery_thumbnail_number = 2\n",
    "    plt.show()\n",
    "\n",
    "\n",
    "        "
   ]
  }
 ],
 "metadata": {
  "kernelspec": {
   "display_name": ".venv",
   "language": "python",
   "name": "python3"
  },
  "language_info": {
   "codemirror_mode": {
    "name": "ipython",
    "version": 3
   },
   "file_extension": ".py",
   "mimetype": "text/x-python",
   "name": "python",
   "nbconvert_exporter": "python",
   "pygments_lexer": "ipython3",
   "version": "3.11.12"
  }
 },
 "nbformat": 4,
 "nbformat_minor": 5
}
