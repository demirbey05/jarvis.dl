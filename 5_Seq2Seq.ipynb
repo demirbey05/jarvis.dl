{
 "cells": [
  {
   "cell_type": "markdown",
   "id": "e03db4a8",
   "metadata": {},
   "source": [
    "In this notebook I will train translation system with seq2seq model"
   ]
  },
  {
   "cell_type": "code",
   "execution_count": 4,
   "id": "1a2d82d4",
   "metadata": {},
   "outputs": [
    {
     "data": {
      "text/plain": [
       "['Doubtless there exists in this world precisely the right woman for any given man to marry and vice versa; but when you consider that a human being has the opportunity of being acquainted with only a few hundred people, and out of the few hundred that there are but a dozen or less whom he knows intimately, and out of the dozen, one or two friends at most, it will easily be seen, when we remember the number of millions who inhabit this world, that probably, since the earth was created, the right man has never yet met the right woman.',\n",
       " 'Ohne Zweifel findet sich auf dieser Welt zu jedem Mann genau die richtige Ehefrau und umgekehrt; wenn man jedoch in Betracht zieht, dass ein Mensch nur Gelegenheit hat, mit ein paar hundert anderen bekannt zu sein, von denen ihm nur ein Dutzend oder weniger nahesteht, darunter höchstens ein oder zwei Freunde, dann erahnt man eingedenk der Millionen Einwohner dieser Welt\\xa0leicht, dass seit Erschaffung ebenderselben wohl noch nie der richtige Mann der richtigen Frau begegnet ist.']"
      ]
     },
     "execution_count": 4,
     "metadata": {},
     "output_type": "execute_result"
    }
   ],
   "source": [
    "DATA_PATH=\"./data/translation/deu.txt\"\n",
    "\n",
    "with open(DATA_PATH, \"r\") as f:\n",
    "    lines = f.readlines()\n",
    "\n",
    "data_set = [line.split(\"\\t\")[:2] for line in lines]\n",
    "data_set[-1]\n",
    "\n"
   ]
  },
  {
   "cell_type": "code",
   "execution_count": 8,
   "id": "96881e41",
   "metadata": {},
   "outputs": [],
   "source": [
    "import re\n",
    "from typing import List, Tuple\n",
    "# regex: words OR any single non-space, non-word character (= punctuation)\n",
    "_TOKEN_RE = re.compile(r\"\\w+|[^\\w\\s]\", flags=re.UNICODE)\n",
    "\n",
    "def tokenize(dataset):\n",
    "    \"\"\"\n",
    "    Parameters\n",
    "    ----------\n",
    "    dataset : list of (src, tgt) sentence pairs\n",
    "\n",
    "    Returns\n",
    "    -------\n",
    "    tokenised_dataset : list of ([tokens_src], [tokens_tgt])\n",
    "    vocab             : {token -> index} built over the whole dataset\n",
    "    \"\"\"\n",
    "    src_data, tgt_data = [], []\n",
    "                       # ensure <eos> is in the vocab\n",
    "\n",
    "    for src, tgt in dataset:\n",
    "        tokens_src = _TOKEN_RE.findall(src.lower()) + [\"<eos>\"]\n",
    "        tokens_tgt = _TOKEN_RE.findall(tgt.lower()) + [\"<eos>\"]\n",
    "\n",
    "        src_data.append(tokens_src)\n",
    "        tgt_data.append(tokens_tgt)\n",
    "\n",
    "    return src_data, tgt_data\n",
    "\n",
    "src, tgt = tokenize(data_set)\n"
   ]
  },
  {
   "cell_type": "code",
   "execution_count": 9,
   "id": "cef6ece9",
   "metadata": {},
   "outputs": [
    {
     "data": {
      "text/plain": [
       "([['go', '.', '<eos>'],\n",
       "  ['hi', '.', '<eos>'],\n",
       "  ['hi', '.', '<eos>'],\n",
       "  ['run', '!', '<eos>'],\n",
       "  ['run', '.', '<eos>'],\n",
       "  ['wow', '!', '<eos>']],\n",
       " [['geh', '.', '<eos>'],\n",
       "  ['hallo', '!', '<eos>'],\n",
       "  ['grüß', 'gott', '!', '<eos>'],\n",
       "  ['lauf', '!', '<eos>'],\n",
       "  ['lauf', '!', '<eos>'],\n",
       "  ['potzdonner', '!', '<eos>']])"
      ]
     },
     "execution_count": 9,
     "metadata": {},
     "output_type": "execute_result"
    }
   ],
   "source": [
    "src[:6], tgt[:6]"
   ]
  },
  {
   "cell_type": "code",
   "execution_count": 10,
   "id": "830fe463",
   "metadata": {},
   "outputs": [
    {
     "data": {
      "image/png": "[encoded data removed]",
      "text/plain": [
       "<Figure size 640x480 with 1 Axes>"
      ]
     },
     "metadata": {},
     "output_type": "display_data"
    }
   ],
   "source": [
    "import matplotlib.pyplot as plt\n",
    "def show_list_len_pair_hist(legend: List[str], xlabel: str, ylabel: str, xlist: List[List[str]], ylist: List[List[str]]):\n",
    "    fig, ax = plt.subplots()\n",
    "    ax.hist([[len(x) for x in xlist], [len(y) for y in ylist]], label=legend)\n",
    "    ax.legend(legend)\n",
    "    ax.set_xlabel(xlabel)\n",
    "    ax.set_ylabel(ylabel)\n",
    "\n",
    "show_list_len_pair_hist([\"src\",\"tgt\"], \"token_size\", \"count\", src, tgt)"
   ]
  },
  {
   "cell_type": "code",
   "execution_count": 29,
   "id": "4f493a54",
   "metadata": {},
   "outputs": [],
   "source": [
    "from typing import List\n",
    "from collections import Counter\n",
    "\n",
    "\n",
    "class Vocabulary:\n",
    "\n",
    "    def __init__(self,token_list: List[List[str]], min_freq: int=2, unknown_token:str='<unk>', reserved_tokens:List[str]=['<pad>', '<bos>', '<eos>']):\n",
    "        token_counter = Counter([token for line in token_list for token in line])\n",
    "        sorted_token_counter = list(sorted(token_counter.items(), key=lambda x: x[1]))\n",
    "        first_index=0\n",
    "        for token, count in sorted_token_counter:\n",
    "            if count == 2:\n",
    "                break\n",
    "            first_index += 1 \n",
    "\n",
    "        self.vocabulary= [unknown_token] + reserved_tokens + [token for token, _ in sorted_token_counter[first_index:]]\n",
    "        self.token_to_idx = {token: idx for idx, token in enumerate(self.vocabulary)}\n",
    "        self.idx_to_token = {idx: token for idx, token in enumerate(self.vocabulary)}\n",
    "\n",
    "    \n",
    "    def __len__(self):\n",
    "        return len(self.vocabulary)\n",
    "\n",
    "    def __getitem__(self,tokens: List[str]):\n",
    "        return [self.token_to_idx[token] if token in self.token_to_idx \n",
    "        else self.token_to_idx['<unk>'] \n",
    "        for token in tokens]\n",
    "\n",
    "    def from_tokens_to_string(self,tokens: List[int]):\n",
    "        return ' '.join([self.idx_to_token[idx] for idx in tokens])          "
   ]
  },
  {
   "cell_type": "code",
   "execution_count": 31,
   "id": "e186457b",
   "metadata": {},
   "outputs": [
    {
     "data": {
      "text/plain": [
       "'go . <eos>'"
      ]
     },
     "execution_count": 31,
     "metadata": {},
     "output_type": "execute_result"
    }
   ],
   "source": [
    "src_vcb = Vocabulary(src,2)\n",
    "src_vcb.from_tokens_to_string(src_vcb[src[0]])"
   ]
  },
  {
   "cell_type": "code",
   "execution_count": null,
   "id": "fbd75c04",
   "metadata": {},
   "outputs": [],
   "source": []
  }
 ],
 "metadata": {
  "kernelspec": {
   "display_name": ".venv",
   "language": "python",
   "name": "python3"
  },
  "language_info": {
   "codemirror_mode": {
    "name": "ipython",
    "version": 3
   },
   "file_extension": ".py",
   "mimetype": "text/x-python",
   "name": "python",
   "nbconvert_exporter": "python",
   "pygments_lexer": "ipython3",
   "version": "3.11.12"
  }
 },
 "nbformat": 4,
 "nbformat_minor": 5
}
