{
  "nbformat": 4,
  "nbformat_minor": 0,
  "metadata": {
    "colab": {
      "provenance": [],
      "authorship_tag": "ABX9TyMolxwA2KLeQx5kXwPzAQ0z"
    },
    "kernelspec": {
      "name": "python3",
      "display_name": "Python 3"
    },
    "language_info": {
      "name": "python"
    }
  },
  "cells": [
    {
      "cell_type": "code",
      "execution_count": null,
      "metadata": {
        "id": "oLudAaxZnhza"
      },
      "outputs": [],
      "source": [
        "import torch"
      ]
    },
    {
      "cell_type": "code",
      "source": [
        "x = torch.arange(12,dtype=torch.float16)\n",
        "print(x.shape)\n",
        "print(x.reshape(12,1).shape)\n",
        "print(x.numel())"
      ],
      "metadata": {
        "colab": {
          "base_uri": "https://localhost:8080/"
        },
        "id": "0RRxmud8nmNQ",
        "outputId": "3d998d74-8a52-4b66-b068-4552344aa192"
      },
      "execution_count": null,
      "outputs": [
        {
          "output_type": "stream",
          "name": "stdout",
          "text": [
            "torch.Size([12])\n",
            "torch.Size([12, 1])\n",
            "12\n"
          ]
        }
      ]
    },
    {
      "cell_type": "markdown",
      "source": [
        "## Indexing and Slicing\n",
        "\n",
        "Indexed or sliced value shares same data with original tensor, so if you modify it will reflect to original one"
      ],
      "metadata": {
        "id": "10JrZDfzoZF5"
      }
    },
    {
      "cell_type": "code",
      "source": [
        "X = x.reshape(3,4)\n",
        "print(X)\n",
        "print(X[:,1]) #second column\n",
        "print(X[-1,:]) #last row\n",
        "print(X[1]) # second row"
      ],
      "metadata": {
        "colab": {
          "base_uri": "https://localhost:8080/"
        },
        "id": "XAIe5_mjn3iW",
        "outputId": "330953f0-5149-4c37-b08d-923b7f77588b"
      },
      "execution_count": null,
      "outputs": [
        {
          "output_type": "stream",
          "name": "stdout",
          "text": [
            "tensor([[ 0.,  1.,  2.,  3.],\n",
            "        [ 4.,  5.,  6.,  7.],\n",
            "        [ 8.,  9., 10., 11.]], dtype=torch.float16)\n",
            "tensor([1., 5., 9.], dtype=torch.float16)\n",
            "tensor([ 8.,  9., 10., 11.], dtype=torch.float16)\n",
            "tensor([4., 5., 6., 7.], dtype=torch.float16)\n"
          ]
        }
      ]
    },
    {
      "cell_type": "code",
      "source": [
        "T = X[:,2]\n",
        "print(T)\n",
        "print(T.shape)"
      ],
      "metadata": {
        "colab": {
          "base_uri": "https://localhost:8080/"
        },
        "id": "xt0JWayVotaS",
        "outputId": "443e0c1b-2612-4b75-cc6b-4e1f6800fc77"
      },
      "execution_count": null,
      "outputs": [
        {
          "output_type": "stream",
          "name": "stdout",
          "text": [
            "tensor([ 2.,  6., 10.], dtype=torch.float16)\n",
            "torch.Size([3])\n"
          ]
        }
      ]
    },
    {
      "cell_type": "code",
      "source": [
        "T[0] = 1000.0\n",
        "print(X)\n",
        "# You will see X[0,2] will be 1000\n",
        "print(X[0,2])"
      ],
      "metadata": {
        "colab": {
          "base_uri": "https://localhost:8080/"
        },
        "id": "R71qbn2ppKZc",
        "outputId": "3232fcc5-a2b4-4372-9f33-75d6ce7dba58"
      },
      "execution_count": null,
      "outputs": [
        {
          "output_type": "stream",
          "name": "stdout",
          "text": [
            "tensor([[   0.,    1., 1000.,    3.],\n",
            "        [   4.,    5.,    6.,    7.],\n",
            "        [   8.,    9.,   10.,   11.]], dtype=torch.float16)\n",
            "tensor(1000., dtype=torch.float16)\n"
          ]
        }
      ]
    },
    {
      "cell_type": "markdown",
      "source": [
        "**WARN:** `X[start:stop]`, where\n",
        "**the returned value includes the first index (start) but not the last (stop).**"
      ],
      "metadata": {
        "id": "b_Z3hma5pxFh"
      }
    },
    {
      "cell_type": "markdown",
      "source": [
        "#Broadcasting"
      ],
      "metadata": {
        "id": "ADpq5KJLtsD3"
      }
    },
    {
      "cell_type": "code",
      "source": [
        "a = torch.arange(3).reshape((3, 1))\n",
        "b = torch.arange(2).reshape((1, 2))\n",
        "\n",
        "a,b"
      ],
      "metadata": {
        "colab": {
          "base_uri": "https://localhost:8080/"
        },
        "id": "oYIE4aYgp9l9",
        "outputId": "79aadf17-8207-4356-9421-802a87830428"
      },
      "execution_count": null,
      "outputs": [
        {
          "output_type": "execute_result",
          "data": {
            "text/plain": [
              "(tensor([[0],\n",
              "         [1],\n",
              "         [2]]),\n",
              " tensor([[0, 1]]))"
            ]
          },
          "metadata": {},
          "execution_count": 29
        }
      ]
    },
    {
      "cell_type": "code",
      "source": [
        "a + b  # must be (3,2)"
      ],
      "metadata": {
        "colab": {
          "base_uri": "https://localhost:8080/"
        },
        "id": "Hgjmh0--tu0N",
        "outputId": "e679c761-5ebb-4343-cc63-bb12a2e45386"
      },
      "execution_count": null,
      "outputs": [
        {
          "output_type": "execute_result",
          "data": {
            "text/plain": [
              "tensor([[0, 1],\n",
              "        [1, 2],\n",
              "        [2, 3]])"
            ]
          },
          "metadata": {},
          "execution_count": 30
        }
      ]
    },
    {
      "cell_type": "markdown",
      "source": [
        "Two tensors are “broadcastable” if the following rules hold:\n",
        "\n",
        "- Each tensor has at least one dimension.\n",
        "- When iterating over the dimension sizes, starting at the trailing dimension, the dimension sizes must **either be equal, one of them is 1, or one of them does not exist.**"
      ],
      "metadata": {
        "id": "pjblulaivoyx"
      }
    },
    {
      "cell_type": "markdown",
      "source": [
        "Best way to save memory is to use in-place operations, let's show with `id()` function which shows memory address of the object"
      ],
      "metadata": {
        "id": "f3I83m9jv0Qe"
      }
    },
    {
      "cell_type": "code",
      "source": [
        "X = torch.arange(12,dtype=torch.bfloat16).reshape(3,4)\n",
        "Y = torch.ones_like(X)\n",
        "print(X,Y)\n",
        "print(f'Memory address of X: {id(X)}')\n",
        "print(f'Memory address of Y: {id(Y)}')"
      ],
      "metadata": {
        "colab": {
          "base_uri": "https://localhost:8080/"
        },
        "id": "jZ0nGv5ht1ei",
        "outputId": "7aa7e8b7-db8a-43b6-b478-72c754452338"
      },
      "execution_count": null,
      "outputs": [
        {
          "output_type": "stream",
          "name": "stdout",
          "text": [
            "tensor([[ 0.,  1.,  2.,  3.],\n",
            "        [ 4.,  5.,  6.,  7.],\n",
            "        [ 8.,  9., 10., 11.]], dtype=torch.bfloat16) tensor([[1., 1., 1., 1.],\n",
            "        [1., 1., 1., 1.],\n",
            "        [1., 1., 1., 1.]], dtype=torch.bfloat16)\n",
            "Memory address of X: 132374725402960\n",
            "Memory address of Y: 132374725404784\n"
          ]
        }
      ]
    },
    {
      "cell_type": "code",
      "source": [
        "Z = X + Y\n",
        "print(id(Z))"
      ],
      "metadata": {
        "colab": {
          "base_uri": "https://localhost:8080/"
        },
        "id": "Xjk1om1VwGKG",
        "outputId": "952b9a42-5855-4506-c190-4dd22b26138c"
      },
      "execution_count": null,
      "outputs": [
        {
          "output_type": "stream",
          "name": "stdout",
          "text": [
            "132374900591024\n"
          ]
        }
      ]
    },
    {
      "cell_type": "code",
      "source": [
        "# We can directly change the data in X\n",
        "X[:] = X + Y\n",
        "# Or X += Y"
      ],
      "metadata": {
        "id": "fju8DDtTwZiX"
      },
      "execution_count": null,
      "outputs": []
    },
    {
      "cell_type": "markdown",
      "source": [
        "# Linear Algebra"
      ],
      "metadata": {
        "id": "0XbO6OHrxhbY"
      }
    },
    {
      "cell_type": "code",
      "source": [
        "# Show that transpose of transpose equal to original matrix\n",
        "A= torch.arange(12,dtype=torch.float32).reshape(3,4)\n",
        "B = A.T\n",
        "torch.equal(A,B.T)"
      ],
      "metadata": {
        "colab": {
          "base_uri": "https://localhost:8080/"
        },
        "id": "jzD1IYF4xBQM",
        "outputId": "a54a5258-786d-4f34-afb8-d493a422dd80"
      },
      "execution_count": null,
      "outputs": [
        {
          "output_type": "execute_result",
          "data": {
            "text/plain": [
              "True"
            ]
          },
          "metadata": {},
          "execution_count": 47
        }
      ]
    },
    {
      "cell_type": "code",
      "source": [
        "#We defined the tensor X of shape (2, 3, 4) in this section. What is the output of len(X)?\n",
        "X = torch.ones((2,3,4))\n",
        "len(X) # 2"
      ],
      "metadata": {
        "colab": {
          "base_uri": "https://localhost:8080/"
        },
        "id": "_thmbQQRxwv0",
        "outputId": "2077326a-068c-4831-a369-70f79296582d"
      },
      "execution_count": null,
      "outputs": [
        {
          "output_type": "execute_result",
          "data": {
            "text/plain": [
              "2"
            ]
          },
          "metadata": {},
          "execution_count": 49
        }
      ]
    },
    {
      "cell_type": "code",
      "source": [],
      "metadata": {
        "id": "sCFjwgAbyG7E"
      },
      "execution_count": null,
      "outputs": []
    }
  ]
}