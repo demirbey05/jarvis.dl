{
 "cells": [
  {
   "cell_type": "code",
   "execution_count": 6,
   "id": "d254ab99",
   "metadata": {},
   "outputs": [],
   "source": [
    "# Let's create synthetic data for regression\n",
    "from utils import DataModule\n",
    "import torch\n",
    "\n",
    "class SyntheticRegressionData(DataModule):\n",
    "\n",
    "    def __init__(self,w,b,num_train=1000,num_val=1000,noise=0.01,batch_size=32):\n",
    "        super().__init__()\n",
    "        self.save_hyperparameters()\n",
    "        inp_dim = len(w)\n",
    "        n = num_train + num_val\n",
    "        self.X = torch.randn((n,inp_dim))\n",
    "        epsilon = torch.randn((n,1))*noise\n",
    "        self.y = torch.mm(self.X,w.reshape(-1,1)) + b + epsilon"
   ]
  },
  {
   "cell_type": "code",
   "execution_count": 7,
   "id": "a99dc8c9",
   "metadata": {},
   "outputs": [],
   "source": [
    "data = SyntheticRegressionData(w=torch.tensor([2, -3.4]), b=4.2)\n"
   ]
  },
  {
   "cell_type": "code",
   "execution_count": 8,
   "id": "9b56a3f6",
   "metadata": {},
   "outputs": [
    {
     "name": "stdout",
     "output_type": "stream",
     "text": [
      "features: tensor([-1.1517,  0.8544]) \n",
      "label: tensor([-1.0021])\n"
     ]
    }
   ],
   "source": [
    "print('features:', data.X[0],'\\nlabel:', data.y[0])\n"
   ]
  },
  {
   "cell_type": "code",
   "execution_count": 15,
   "id": "b24801db",
   "metadata": {},
   "outputs": [],
   "source": [
    "from utils import add_to_class\n",
    "import random \n",
    "\n",
    "@add_to_class(SyntheticRegressionData)\n",
    "def get_dataloader(self,train):\n",
    "    # Get indices of the data\n",
    "    if train:\n",
    "        indices = [i for i in range(self.num_train)]\n",
    "        # Shuffle indices\n",
    "        random.shuffle(indices) \n",
    "    else:\n",
    "        indices = [i for i in range(self.num_train,self.num_train + self.num_val)]\n",
    "    \n",
    "    number_of_batches = len(indices) // self.batch_size\n",
    "    for i in range(0,number_of_batches*self.batch_size,self.batch_size):\n",
    "        batch_indices = torch.tensor(indices[i: i+self.batch_size])\n",
    "        yield self.X[batch_indices,:],self.y[batch_indices,:]\n",
    "\n"
   ]
  },
  {
   "cell_type": "code",
   "execution_count": 16,
   "id": "d6b3f6ef",
   "metadata": {},
   "outputs": [
    {
     "name": "stdout",
     "output_type": "stream",
     "text": [
      "X shape: torch.Size([32, 2]) \n",
      "y shape: torch.Size([32, 1])\n"
     ]
    }
   ],
   "source": [
    "X, y = next(iter(data.train_dataloader()))\n",
    "print('X shape:', X.shape, '\\ny shape:', y.shape)"
   ]
  },
  {
   "cell_type": "code",
   "execution_count": 32,
   "id": "ca085a90",
   "metadata": {},
   "outputs": [],
   "source": [
    "# More concise implementation uses torch utils\n",
    "@add_to_class(SyntheticRegressionData)\n",
    "def get_tensorloader(self,tensors,train,indices = slice(0,None)):\n",
    "    #Get slices from whole data tensors=(X,y)\n",
    "    tensors = tuple([a[indices] for a in tensors])\n",
    "    dataset = torch.utils.data.TensorDataset(*tensors)\n",
    "    return torch.utils.data.DataLoader(dataset,batch_size=self.batch_size,shuffle=train)\n",
    "\n",
    "\n",
    "@add_to_class(SyntheticRegressionData)\n",
    "def get_dataloader(self,train):\n",
    "    idxs = slice(0,self.num_train) if train else slice(num_train,None)\n",
    "    return self.get_tensorloader((self.X,self.y),train,idxs)\n",
    "\n",
    "\n"
   ]
  },
  {
   "cell_type": "code",
   "execution_count": 33,
   "id": "cfec449b",
   "metadata": {},
   "outputs": [
    {
     "name": "stdout",
     "output_type": "stream",
     "text": [
      "X shape: torch.Size([32, 2]) \n",
      "y shape: torch.Size([32, 1])\n",
      "X shape: torch.Size([32, 2]) \n",
      "y shape: torch.Size([32, 1])\n",
      "X shape: torch.Size([32, 2]) \n",
      "y shape: torch.Size([32, 1])\n",
      "X shape: torch.Size([32, 2]) \n",
      "y shape: torch.Size([32, 1])\n",
      "X shape: torch.Size([32, 2]) \n",
      "y shape: torch.Size([32, 1])\n",
      "X shape: torch.Size([32, 2]) \n",
      "y shape: torch.Size([32, 1])\n",
      "X shape: torch.Size([32, 2]) \n",
      "y shape: torch.Size([32, 1])\n",
      "X shape: torch.Size([32, 2]) \n",
      "y shape: torch.Size([32, 1])\n",
      "X shape: torch.Size([32, 2]) \n",
      "y shape: torch.Size([32, 1])\n",
      "X shape: torch.Size([32, 2]) \n",
      "y shape: torch.Size([32, 1])\n",
      "X shape: torch.Size([32, 2]) \n",
      "y shape: torch.Size([32, 1])\n",
      "X shape: torch.Size([32, 2]) \n",
      "y shape: torch.Size([32, 1])\n",
      "X shape: torch.Size([32, 2]) \n",
      "y shape: torch.Size([32, 1])\n",
      "X shape: torch.Size([32, 2]) \n",
      "y shape: torch.Size([32, 1])\n",
      "X shape: torch.Size([32, 2]) \n",
      "y shape: torch.Size([32, 1])\n",
      "X shape: torch.Size([32, 2]) \n",
      "y shape: torch.Size([32, 1])\n",
      "X shape: torch.Size([32, 2]) \n",
      "y shape: torch.Size([32, 1])\n",
      "X shape: torch.Size([32, 2]) \n",
      "y shape: torch.Size([32, 1])\n",
      "X shape: torch.Size([32, 2]) \n",
      "y shape: torch.Size([32, 1])\n",
      "X shape: torch.Size([32, 2]) \n",
      "y shape: torch.Size([32, 1])\n",
      "X shape: torch.Size([32, 2]) \n",
      "y shape: torch.Size([32, 1])\n",
      "X shape: torch.Size([32, 2]) \n",
      "y shape: torch.Size([32, 1])\n",
      "X shape: torch.Size([32, 2]) \n",
      "y shape: torch.Size([32, 1])\n",
      "X shape: torch.Size([32, 2]) \n",
      "y shape: torch.Size([32, 1])\n",
      "X shape: torch.Size([32, 2]) \n",
      "y shape: torch.Size([32, 1])\n",
      "X shape: torch.Size([32, 2]) \n",
      "y shape: torch.Size([32, 1])\n",
      "X shape: torch.Size([32, 2]) \n",
      "y shape: torch.Size([32, 1])\n",
      "X shape: torch.Size([32, 2]) \n",
      "y shape: torch.Size([32, 1])\n",
      "X shape: torch.Size([32, 2]) \n",
      "y shape: torch.Size([32, 1])\n",
      "X shape: torch.Size([32, 2]) \n",
      "y shape: torch.Size([32, 1])\n",
      "X shape: torch.Size([32, 2]) \n",
      "y shape: torch.Size([32, 1])\n",
      "X shape: torch.Size([8, 2]) \n",
      "y shape: torch.Size([8, 1])\n"
     ]
    }
   ],
   "source": [
    "for X,y in data.train_dataloader():\n",
    "    print('X shape:', X.shape, '\\ny shape:', y.shape)"
   ]
  },
  {
   "cell_type": "markdown",
   "id": "c030ac0e",
   "metadata": {},
   "source": [
    "The last batch has size of 8 data points, if you want to drop last batch write drop_last = True in data loader"
   ]
  },
  {
   "cell_type": "code",
   "execution_count": 34,
   "id": "9b65200d",
   "metadata": {},
   "outputs": [],
   "source": [
    "from utils import Module\n",
    "class LinearRegressionScratch(Module):\n",
    "    def __init__(num_inputs, lr, sigma=0.01):\n",
    "        super().__init__()\n",
    "        self.save_hyperparameters()\n",
    "        # Init parameters\n",
    "        self.W = torch.normal(0,sigma,(num_inputs,1),requires_grad=True)\n",
    "        self.b = torch.zeros(1, requires_grad=True)\n",
    "\n",
    "\n",
    "@add_to_class(LinearRegressionScratch)\n",
    "def forward(self, X):\n",
    "    return torch.mm(X,self.W) + self.b\n",
    "\n",
    "@add_to_class(LinearRegressionScratch)\n",
    "def loss(self, y_hat, y):\n",
    "        l = (y_hat-y)**2 / 2\n",
    "        return errors.mean()\n"
   ]
  },
  {
   "cell_type": "code",
   "execution_count": null,
   "id": "97908926",
   "metadata": {},
   "outputs": [],
   "source": []
  }
 ],
 "metadata": {
  "kernelspec": {
   "display_name": ".venv",
   "language": "python",
   "name": "python3"
  },
  "language_info": {
   "codemirror_mode": {
    "name": "ipython",
    "version": 3
   },
   "file_extension": ".py",
   "mimetype": "text/x-python",
   "name": "python",
   "nbconvert_exporter": "python",
   "pygments_lexer": "ipython3",
   "version": "3.11.12"
  }
 },
 "nbformat": 4,
 "nbformat_minor": 5
}
